{
 "cells": [
  {
   "cell_type": "markdown",
   "metadata": {},
   "source": [
    "# Day2"
   ]
  },
  {
   "cell_type": "markdown",
   "metadata": {},
   "source": [
    "## Problem 1:"
   ]
  },
  {
   "cell_type": "markdown",
   "metadata": {},
   "source": [
    "A. Read data"
   ]
  },
  {
   "cell_type": "code",
   "execution_count": 2,
   "metadata": {},
   "outputs": [
    {
     "name": "stdout",
     "output_type": "stream",
     "text": [
      "Game 1: 2 red, 2 green; 1 red, 1 green, 2 blue; 3 blue, 3 red, 3 green; 1 blue, 3 green, 7 red; 5 red, 3 green, 1 blue\n",
      "\n"
     ]
    }
   ],
   "source": [
    "with open ('input_1.txt', 'r') as file:\n",
    "    data = file.readlines()\n",
    "\n",
    "print(data[0])"
   ]
  },
  {
   "cell_type": "markdown",
   "metadata": {},
   "source": [
    "B. Write code for one example"
   ]
  },
  {
   "cell_type": "code",
   "execution_count": 4,
   "metadata": {},
   "outputs": [
    {
     "name": "stdout",
     "output_type": "stream",
     "text": [
      "Game 1: 2 red, 2 green; 1 red, 1 green, 2 blue; 3 blue, 3 red, 3 green; 1 blue, 3 green, 7 red; 5 red, 3 green, 1 blue\n",
      "\n"
     ]
    }
   ],
   "source": [
    "test_data = data[0]\n",
    "print(test_data)"
   ]
  },
  {
   "cell_type": "code",
   "execution_count": 5,
   "metadata": {},
   "outputs": [],
   "source": [
    "goal = {\n",
    "    'red': 12,\n",
    "    'blue': 14,\n",
    "    'green': 13\n",
    "}"
   ]
  },
  {
   "cell_type": "code",
   "execution_count": 15,
   "metadata": {},
   "outputs": [
    {
     "data": {
      "text/plain": [
       "[' 2 red, 2 green',\n",
       " ' 1 red, 1 green, 2 blue',\n",
       " ' 3 blue, 3 red, 3 green',\n",
       " ' 1 blue, 3 green, 7 red',\n",
       " ' 5 red, 3 green, 1 blue']"
      ]
     },
     "execution_count": 15,
     "metadata": {},
     "output_type": "execute_result"
    }
   ],
   "source": [
    "records = test_data[0:-1].split(':')[1].split(';')\n",
    "records\n"
   ]
  },
  {
   "cell_type": "code",
   "execution_count": 37,
   "metadata": {},
   "outputs": [
    {
     "name": "stdout",
     "output_type": "stream",
     "text": [
      "1\n"
     ]
    }
   ],
   "source": [
    "counts = {\n",
    "    'red': 0, \n",
    "    'blue': 0,\n",
    "    'green': 0\n",
    "}\n",
    "\n",
    "res = 0\n",
    "for record in records:\n",
    "    colors = record.split(',')\n",
    "    for color in colors:\n",
    "        color = color[1:]\n",
    "        for name in goal.keys():\n",
    "            color = color.rstrip()\n",
    "            if name in color:\n",
    "                counts[name] += int(color.split(' ')[0])\n",
    "\n",
    "possible = True\n",
    "\n",
    "for color_name in goal.keys():\n",
    "    if counts[name] > goal[name]:\n",
    "        possible = False\n",
    "if possible is True:\n",
    "    game_number = test_data.split(':')[0].split(' ')[1]\n",
    "    res += int(game_number)\n",
    "print(res)\n"
   ]
  },
  {
   "cell_type": "code",
   "execution_count": 93,
   "metadata": {},
   "outputs": [
    {
     "name": "stdout",
     "output_type": "stream",
     "text": [
      "2776\n"
     ]
    }
   ],
   "source": [
    "with open ('input_1.txt', 'r') as file:\n",
    "    data = file.readlines()\n",
    "\n",
    "goal = {\n",
    "    'red': 12,\n",
    "    'blue': 14,\n",
    "    'green': 13\n",
    "}\n",
    "res = 0\n",
    "\n",
    "for inp in data:\n",
    "    possible = True\n",
    "\n",
    "\n",
    "    records = inp[0:-1].split(':')[1].split(';')\n",
    "    for record in records:\n",
    "        colors = record.split(',')\n",
    "        for color in colors:\n",
    "            color = color[1:]\n",
    "            \n",
    "            for name in goal.keys():\n",
    "                color = color.rstrip()\n",
    "                if name in color:\n",
    "                    num = int(color.split(' ')[0])\n",
    "                    if num > goal[name]:\n",
    "                        possible = False\n",
    "                        break\n",
    "            if not possible:\n",
    "                break\n",
    "        if not possible:\n",
    "            break\n",
    "\n",
    "    if possible:\n",
    "        game_number = inp.split(':')[0].split(' ')[1]\n",
    "        res += int(game_number)\n",
    "    \n",
    "\n",
    "print(res)\n"
   ]
  },
  {
   "cell_type": "markdown",
   "metadata": {},
   "source": [
    "## Problem 2:"
   ]
  },
  {
   "cell_type": "code",
   "execution_count": 94,
   "metadata": {},
   "outputs": [
    {
     "name": "stdout",
     "output_type": "stream",
     "text": [
      "68638\n"
     ]
    }
   ],
   "source": [
    "with open ('input_1.txt', 'r') as file:\n",
    "    data = file.readlines()\n",
    "\n",
    "goal = {\n",
    "    'red': 12,\n",
    "    'blue': 14,\n",
    "    'green': 13\n",
    "}\n",
    "res = 0\n",
    "\n",
    "for inp in data:\n",
    "    possible = True\n",
    "\n",
    "    counts = {\n",
    "    'red': 0,\n",
    "    'blue': 0,\n",
    "    'green': 0\n",
    "}\n",
    "\n",
    "    records = inp[0:-1].split(':')[1].split(';')\n",
    "    for record in records:\n",
    "        colors = record.split(',')\n",
    "        for color in colors:\n",
    "            color = color[1:]\n",
    "            \n",
    "            for name in goal.keys():\n",
    "                color = color.rstrip()\n",
    "                if name in color:\n",
    "                    num = int(color.split(' ')[0])\n",
    "                    if num > counts[name]:\n",
    "                        counts[name] = num\n",
    "\n",
    "    p = counts['red'] * counts['blue'] * counts['green']\n",
    "    res += p\n",
    "print(res)\n"
   ]
  }
 ],
 "metadata": {
  "kernelspec": {
   "display_name": "Python 3",
   "language": "python",
   "name": "python3"
  },
  "language_info": {
   "codemirror_mode": {
    "name": "ipython",
    "version": 3
   },
   "file_extension": ".py",
   "mimetype": "text/x-python",
   "name": "python",
   "nbconvert_exporter": "python",
   "pygments_lexer": "ipython3",
   "version": "3.9.13"
  }
 },
 "nbformat": 4,
 "nbformat_minor": 2
}
